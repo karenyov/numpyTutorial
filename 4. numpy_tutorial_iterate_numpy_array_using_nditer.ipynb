{
  "nbformat": 4,
  "nbformat_minor": 0,
  "metadata": {
    "colab": {
      "name": "4. numpy tutorial: iterate numpy array using nditer.ipynb",
      "provenance": [],
      "collapsed_sections": []
    },
    "kernelspec": {
      "name": "python3",
      "display_name": "Python 3"
    }
  },
  "cells": [
    {
      "cell_type": "code",
      "metadata": {
        "id": "badkzmTtABRB",
        "colab_type": "code",
        "colab": {}
      },
      "source": [
        "import numpy as np"
      ],
      "execution_count": 0,
      "outputs": []
    },
    {
      "cell_type": "code",
      "metadata": {
        "id": "GVdmTWu7EJB2",
        "colab_type": "code",
        "colab": {
          "base_uri": "https://localhost:8080/",
          "height": 68
        },
        "outputId": "1b8eec00-7438-4c28-c704-4450d822f487"
      },
      "source": [
        "a = np.arange(12).reshape(3,4)\n",
        "a"
      ],
      "execution_count": 2,
      "outputs": [
        {
          "output_type": "execute_result",
          "data": {
            "text/plain": [
              "array([[ 0,  1,  2,  3],\n",
              "       [ 4,  5,  6,  7],\n",
              "       [ 8,  9, 10, 11]])"
            ]
          },
          "metadata": {
            "tags": []
          },
          "execution_count": 2
        }
      ]
    },
    {
      "cell_type": "code",
      "metadata": {
        "id": "oQP_86W3EQEW",
        "colab_type": "code",
        "colab": {
          "base_uri": "https://localhost:8080/",
          "height": 68
        },
        "outputId": "30fd11f8-ed62-49df-f323-b18a8965568d"
      },
      "source": [
        "for row in a:\n",
        "  print(row)"
      ],
      "execution_count": 3,
      "outputs": [
        {
          "output_type": "stream",
          "text": [
            "[0 1 2 3]\n",
            "[4 5 6 7]\n",
            "[ 8  9 10 11]\n"
          ],
          "name": "stdout"
        }
      ]
    },
    {
      "cell_type": "code",
      "metadata": {
        "id": "YKnKDlmcEc7D",
        "colab_type": "code",
        "colab": {
          "base_uri": "https://localhost:8080/",
          "height": 221
        },
        "outputId": "b60893b1-4915-4523-b386-f3c02cc106c6"
      },
      "source": [
        "for row in a:\n",
        "  for cell in row:\n",
        "    print(cell)"
      ],
      "execution_count": 4,
      "outputs": [
        {
          "output_type": "stream",
          "text": [
            "0\n",
            "1\n",
            "2\n",
            "3\n",
            "4\n",
            "5\n",
            "6\n",
            "7\n",
            "8\n",
            "9\n",
            "10\n",
            "11\n"
          ],
          "name": "stdout"
        }
      ]
    },
    {
      "cell_type": "code",
      "metadata": {
        "id": "zoUlUSkJEz4w",
        "colab_type": "code",
        "colab": {
          "base_uri": "https://localhost:8080/",
          "height": 221
        },
        "outputId": "9cb03de2-edfd-4a6c-9fd8-279a0b0bc2f0"
      },
      "source": [
        "for cell in a.flatten():\n",
        "  print(cell)"
      ],
      "execution_count": 5,
      "outputs": [
        {
          "output_type": "stream",
          "text": [
            "0\n",
            "1\n",
            "2\n",
            "3\n",
            "4\n",
            "5\n",
            "6\n",
            "7\n",
            "8\n",
            "9\n",
            "10\n",
            "11\n"
          ],
          "name": "stdout"
        }
      ]
    },
    {
      "cell_type": "code",
      "metadata": {
        "id": "_tRO2djnE-Cq",
        "colab_type": "code",
        "colab": {
          "base_uri": "https://localhost:8080/",
          "height": 221
        },
        "outputId": "e10365a3-aa35-4576-b985-0e06b79626a6"
      },
      "source": [
        "for x in np.nditer(a,order='C'):\n",
        "  print(x)"
      ],
      "execution_count": 6,
      "outputs": [
        {
          "output_type": "stream",
          "text": [
            "0\n",
            "1\n",
            "2\n",
            "3\n",
            "4\n",
            "5\n",
            "6\n",
            "7\n",
            "8\n",
            "9\n",
            "10\n",
            "11\n"
          ],
          "name": "stdout"
        }
      ]
    },
    {
      "cell_type": "code",
      "metadata": {
        "id": "Bw8LERDRFPMK",
        "colab_type": "code",
        "colab": {
          "base_uri": "https://localhost:8080/",
          "height": 85
        },
        "outputId": "65f800d8-3b07-4114-9553-762f9ca0c13e"
      },
      "source": [
        "for x in np.nditer(a, order='F', flags=['external_loop']):\n",
        "  print(x)"
      ],
      "execution_count": 8,
      "outputs": [
        {
          "output_type": "stream",
          "text": [
            "[0 4 8]\n",
            "[1 5 9]\n",
            "[ 2  6 10]\n",
            "[ 3  7 11]\n"
          ],
          "name": "stdout"
        }
      ]
    },
    {
      "cell_type": "code",
      "metadata": {
        "id": "7uvETllDFtWV",
        "colab_type": "code",
        "colab": {
          "base_uri": "https://localhost:8080/",
          "height": 68
        },
        "outputId": "2915c736-91a4-4906-be70-3f770f386375"
      },
      "source": [
        "for x in np.nditer(a, op_flags=['readwrite']):\n",
        "  x[...] = x * x\n",
        "\n",
        "a"
      ],
      "execution_count": 11,
      "outputs": [
        {
          "output_type": "execute_result",
          "data": {
            "text/plain": [
              "array([[        0,         1,       256,      6561],\n",
              "       [    65536,    390625,   1679616,   5764801],\n",
              "       [ 16777216,  43046721, 100000000, 214358881]])"
            ]
          },
          "metadata": {
            "tags": []
          },
          "execution_count": 11
        }
      ]
    },
    {
      "cell_type": "code",
      "metadata": {
        "id": "4ofzisx4GDud",
        "colab_type": "code",
        "colab": {
          "base_uri": "https://localhost:8080/",
          "height": 68
        },
        "outputId": "22def757-7f23-42da-f1ad-7711e5a306fe"
      },
      "source": [
        "b = np.arange(3,15,4).reshape(3,1)\n",
        "b"
      ],
      "execution_count": 12,
      "outputs": [
        {
          "output_type": "execute_result",
          "data": {
            "text/plain": [
              "array([[ 3],\n",
              "       [ 7],\n",
              "       [11]])"
            ]
          },
          "metadata": {
            "tags": []
          },
          "execution_count": 12
        }
      ]
    },
    {
      "cell_type": "code",
      "metadata": {
        "id": "sCGdB6e7GURm",
        "colab_type": "code",
        "colab": {
          "base_uri": "https://localhost:8080/",
          "height": 221
        },
        "outputId": "ed08ffed-8cc6-4fc8-ea48-b999c28ceedd"
      },
      "source": [
        "for x,y in np.nditer([a,b]):\n",
        "  print(x,y)"
      ],
      "execution_count": 13,
      "outputs": [
        {
          "output_type": "stream",
          "text": [
            "0 3\n",
            "1 3\n",
            "256 3\n",
            "6561 3\n",
            "65536 7\n",
            "390625 7\n",
            "1679616 7\n",
            "5764801 7\n",
            "16777216 11\n",
            "43046721 11\n",
            "100000000 11\n",
            "214358881 11\n"
          ],
          "name": "stdout"
        }
      ]
    }
  ]
}